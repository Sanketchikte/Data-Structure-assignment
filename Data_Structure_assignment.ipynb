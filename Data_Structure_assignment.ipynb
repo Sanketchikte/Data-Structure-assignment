{
  "nbformat": 4,
  "nbformat_minor": 0,
  "metadata": {
    "colab": {
      "provenance": []
    },
    "kernelspec": {
      "name": "python3",
      "display_name": "Python 3"
    },
    "language_info": {
      "name": "python"
    }
  },
  "cells": [
    {
      "cell_type": "markdown",
      "source": [
        "**Que. 1.Discuss string slicing and provide examples.**\n",
        "\n",
        "**Ans.**Python slicing is about obtaining a sub-string from the given string by slicing it respectively from start to end.\n",
        "\n",
        "**Python slicing can be done in two ways:**\n",
        "\n",
        "*  Using a slice() method\n",
        "*  Using the array slicing  [:: ] method\n",
        "\n",
        "**Syntax:**\n",
        "\n",
        "\n",
        "\n",
        "*   slice(stop)\n",
        "*  slice(start, stop, step)\n",
        "\n",
        "\n",
        "**start:** Starting index where the slicing of object starts.\n",
        "\n",
        "**stop:** Ending index where the slicing of object stops.\n",
        "\n",
        "**step:** It is an optional argument that determines the increment between each index for slicing.\n",
        "\n",
        "**Example:-**\n",
        "\n",
        "\n",
        "* 1. Using a slice() method"
      ],
      "metadata": {
        "id": "hxdSfNdsgA0Q"
      }
    },
    {
      "cell_type": "code",
      "execution_count": null,
      "metadata": {
        "id": "CNQlQsgZfYyV",
        "colab": {
          "base_uri": "https://localhost:8080/"
        },
        "outputId": "a6e3e550-41d6-402f-8af7-413fe290d317"
      },
      "outputs": [
        {
          "output_type": "stream",
          "name": "stdout",
          "text": [
            "Sank\n"
          ]
        }
      ],
      "source": [
        "#slicing string\n",
        "\n",
        "String = 'Sanket'\n",
        "\n",
        "# Using slice constructor\n",
        "s1 = slice(4)\n",
        "s2 = slice(1, 5, 2)\n",
        "s3 = slice(-1, -12, -2)\n",
        "\n",
        "\n",
        "print(String[s1])"
      ]
    },
    {
      "cell_type": "code",
      "source": [
        "print(String[s2])"
      ],
      "metadata": {
        "colab": {
          "base_uri": "https://localhost:8080/"
        },
        "id": "cg3Uio9b1C6d",
        "outputId": "ee385d18-50d6-40d1-b40a-311dac254919"
      },
      "execution_count": null,
      "outputs": [
        {
          "output_type": "stream",
          "name": "stdout",
          "text": [
            "ak\n"
          ]
        }
      ]
    },
    {
      "cell_type": "code",
      "source": [
        "print(String[s3])"
      ],
      "metadata": {
        "colab": {
          "base_uri": "https://localhost:8080/"
        },
        "id": "jwxjlk6a2Km1",
        "outputId": "385e192e-19b4-4867-8604-e78baf3a10f7"
      },
      "execution_count": null,
      "outputs": [
        {
          "output_type": "stream",
          "name": "stdout",
          "text": [
            "tka\n"
          ]
        }
      ]
    },
    {
      "cell_type": "markdown",
      "source": [
        "*  Using the array slicing  [:: ] method"
      ],
      "metadata": {
        "id": "LN9bLHn23AWY"
      }
    },
    {
      "cell_type": "code",
      "source": [
        "String1 = 'pwskills'\n",
        "\n",
        "print(String1[::])"
      ],
      "metadata": {
        "colab": {
          "base_uri": "https://localhost:8080/"
        },
        "id": "ys3DFDdQ2RZi",
        "outputId": "f208eff1-0e02-4062-940d-16aa25ee373f"
      },
      "execution_count": null,
      "outputs": [
        {
          "output_type": "stream",
          "name": "stdout",
          "text": [
            "pwskills\n"
          ]
        }
      ]
    },
    {
      "cell_type": "code",
      "source": [
        "\n",
        "print(String1[:3])"
      ],
      "metadata": {
        "colab": {
          "base_uri": "https://localhost:8080/"
        },
        "id": "_1r5FxgK3WJv",
        "outputId": "75609e1c-d087-4cdd-f5f1-48bc48b8b89a"
      },
      "execution_count": null,
      "outputs": [
        {
          "output_type": "stream",
          "name": "stdout",
          "text": [
            "pws\n"
          ]
        }
      ]
    },
    {
      "cell_type": "code",
      "source": [
        "\n",
        "print(String1[2:])"
      ],
      "metadata": {
        "colab": {
          "base_uri": "https://localhost:8080/"
        },
        "id": "qS_5BRG13kAB",
        "outputId": "dead2a5c-6dde-4366-83a8-f2f295015b33"
      },
      "execution_count": null,
      "outputs": [
        {
          "output_type": "stream",
          "name": "stdout",
          "text": [
            "skills\n"
          ]
        }
      ]
    },
    {
      "cell_type": "code",
      "source": [
        "\n",
        "print(String1[1:5:2])"
      ],
      "metadata": {
        "colab": {
          "base_uri": "https://localhost:8080/"
        },
        "id": "7I4BCGJy3nq8",
        "outputId": "2d1baa7e-3ef4-4e03-d81c-53e55f91e1ea"
      },
      "execution_count": null,
      "outputs": [
        {
          "output_type": "stream",
          "name": "stdout",
          "text": [
            "wk\n"
          ]
        }
      ]
    },
    {
      "cell_type": "code",
      "source": [
        "\n",
        "print(String1[-1:-5:-2])"
      ],
      "metadata": {
        "colab": {
          "base_uri": "https://localhost:8080/"
        },
        "id": "XOVPJldr3skF",
        "outputId": "db790e85-0512-4ce9-a354-7d7b07a37037"
      },
      "execution_count": null,
      "outputs": [
        {
          "output_type": "stream",
          "name": "stdout",
          "text": [
            "sl\n"
          ]
        }
      ]
    },
    {
      "cell_type": "code",
      "source": [
        "\n",
        "print(String1[1::])"
      ],
      "metadata": {
        "colab": {
          "base_uri": "https://localhost:8080/"
        },
        "id": "qvW040jV36d5",
        "outputId": "ffe18577-061d-4557-a52f-e6c94d35b0b0"
      },
      "execution_count": null,
      "outputs": [
        {
          "output_type": "stream",
          "name": "stdout",
          "text": [
            "wskills\n"
          ]
        }
      ]
    },
    {
      "cell_type": "code",
      "source": [
        "#it means start from the end, move to beginning an step backword by one character\n",
        "print(String1[::-1])"
      ],
      "metadata": {
        "colab": {
          "base_uri": "https://localhost:8080/"
        },
        "id": "4mpPT5Vb3_OG",
        "outputId": "5d0a5cff-6729-4d8e-fa70-7dc3066f6077"
      },
      "execution_count": null,
      "outputs": [
        {
          "output_type": "stream",
          "name": "stdout",
          "text": [
            "sllikswp\n"
          ]
        }
      ]
    },
    {
      "cell_type": "markdown",
      "source": [
        "**Que. 2.Explain the key features of list in python.**\n",
        "\n",
        "**Ans.**The list is a sequence data type which is used to store the collection of data.\n",
        "\n",
        "**Features:-**\n",
        "\n",
        "\n",
        "\n",
        "*   **Mutability:-**Mutable (can be modified after creation).\n",
        "\n",
        "*   **Syntax:-**Defined using square brackets[].\n",
        "*   **Performance:-**Slower due to dynamic size and mutability.\n",
        "\n",
        "\n",
        "*   Methods:- Slower due to dynamic size and mutability.\n",
        "*  **Use cases:-**Suitable for collections of items that may change.\n",
        "\n",
        "\n",
        "\n",
        "\n",
        "*  **Memory usage:-**Consumes more memory due to flexibility\n",
        "*   **Iteration:-**Iteration can be slightly slower\n",
        "\n",
        "\n",
        "\n",
        "*  **Hashability:-**Lists are not hashable\n",
        "\n",
        "\n",
        "**Example:-**"
      ],
      "metadata": {
        "id": "lNVAdrV842fd"
      }
    },
    {
      "cell_type": "code",
      "source": [
        "#list\n",
        "\n",
        "num_list = [1,2,3,4]\n",
        "num_list"
      ],
      "metadata": {
        "colab": {
          "base_uri": "https://localhost:8080/"
        },
        "id": "rO6wg7-D4hiW",
        "outputId": "f061fcb8-8091-4676-e15f-b188fe5898ad"
      },
      "execution_count": null,
      "outputs": [
        {
          "output_type": "execute_result",
          "data": {
            "text/plain": [
              "[1, 2, 3, 4]"
            ]
          },
          "metadata": {},
          "execution_count": 20
        }
      ]
    },
    {
      "cell_type": "code",
      "source": [
        "alphabets_list = ['a','b','c','d']\n",
        "alphabets_list"
      ],
      "metadata": {
        "colab": {
          "base_uri": "https://localhost:8080/"
        },
        "id": "3ky01TybDuLv",
        "outputId": "f94c2749-220b-4bbc-fdcd-7f976391a445"
      },
      "execution_count": null,
      "outputs": [
        {
          "output_type": "execute_result",
          "data": {
            "text/plain": [
              "['a', 'b', 'c', 'd']"
            ]
          },
          "metadata": {},
          "execution_count": 21
        }
      ]
    },
    {
      "cell_type": "markdown",
      "source": [
        "**Que. 3.Describe how to access,modify,and delete elements in a list with examples.**\n",
        "\n",
        "**Ans.**\n",
        "\n",
        "**Access:-**List items are indexed and you can access them by referring to the\n",
        "index number.\n",
        "\n",
        "**Example:-**\n",
        "\n"
      ],
      "metadata": {
        "id": "prbx0-UqEIES"
      }
    },
    {
      "cell_type": "code",
      "source": [
        "mylist = [\"apple\", \"banana\", \"cherry\"]\n",
        "print(mylist[1])"
      ],
      "metadata": {
        "colab": {
          "base_uri": "https://localhost:8080/"
        },
        "id": "3yzoV69FEGP6",
        "outputId": "e8d33cdb-88fd-4c17-81fe-42f56d26c9e1"
      },
      "execution_count": null,
      "outputs": [
        {
          "output_type": "stream",
          "name": "stdout",
          "text": [
            "banana\n"
          ]
        }
      ]
    },
    {
      "cell_type": "code",
      "source": [
        "\n",
        "mylist = [\"apple\", \"banana\", \"cherry\"]\n",
        "print(mylist[-1])\n"
      ],
      "metadata": {
        "colab": {
          "base_uri": "https://localhost:8080/"
        },
        "id": "KMVQgQEHOUd2",
        "outputId": "1b902b1d-510f-4417-d1c7-4f7ef1fbef91"
      },
      "execution_count": null,
      "outputs": [
        {
          "output_type": "stream",
          "name": "stdout",
          "text": [
            "cherry\n"
          ]
        }
      ]
    },
    {
      "cell_type": "code",
      "source": [
        "mylist = [\"apple\", \"banana\", \"cherry\", \"orange\", \"kiwi\", \"melon\", \"mango\"]\n",
        "print(mylist[2:5])"
      ],
      "metadata": {
        "colab": {
          "base_uri": "https://localhost:8080/"
        },
        "id": "n1hbJQfGTQBu",
        "outputId": "3df3d5eb-29c4-4be3-f251-2f1e75477ab2"
      },
      "execution_count": null,
      "outputs": [
        {
          "output_type": "stream",
          "name": "stdout",
          "text": [
            "['cherry', 'orange', 'kiwi']\n"
          ]
        }
      ]
    },
    {
      "cell_type": "markdown",
      "source": [
        "\n",
        "*  ** Modify:-**List in python is mutable types which means it can be changed after assigning some value. The list is similar to arrays in other programming languages.\n",
        "\n",
        "\n"
      ],
      "metadata": {
        "id": "IVLcQbF4TeLe"
      }
    },
    {
      "cell_type": "code",
      "source": [
        "list1 = [10,20,30,40,50,60]\n",
        "print(list1)"
      ],
      "metadata": {
        "id": "CUJETQlYTZVl",
        "colab": {
          "base_uri": "https://localhost:8080/"
        },
        "outputId": "756628a4-6ba6-45ce-f6b1-eb881e4a5540"
      },
      "execution_count": 1,
      "outputs": [
        {
          "output_type": "stream",
          "name": "stdout",
          "text": [
            "[10, 20, 30, 40, 50, 60]\n"
          ]
        }
      ]
    },
    {
      "cell_type": "code",
      "source": [
        "list1[0] = 99\n",
        "print(list1)"
      ],
      "metadata": {
        "colab": {
          "base_uri": "https://localhost:8080/"
        },
        "id": "GVlYcR6go-Vi",
        "outputId": "e44bff17-a0cb-4f57-cde2-3e9d0d221e84"
      },
      "execution_count": 2,
      "outputs": [
        {
          "output_type": "stream",
          "name": "stdout",
          "text": [
            "[99, 20, 30, 40, 50, 60]\n"
          ]
        }
      ]
    },
    {
      "cell_type": "code",
      "source": [
        "list1[-1] = 77\n",
        "print(list1)"
      ],
      "metadata": {
        "colab": {
          "base_uri": "https://localhost:8080/"
        },
        "id": "O_M1PNaipK1S",
        "outputId": "e5ac0fa5-4591-44d5-f914-1c571dbf4763"
      },
      "execution_count": 4,
      "outputs": [
        {
          "output_type": "stream",
          "name": "stdout",
          "text": [
            "[99, 20, 30, 40, 50, 77]\n"
          ]
        }
      ]
    },
    {
      "cell_type": "code",
      "source": [
        "list1[-3] = 88\n",
        "print(list1)"
      ],
      "metadata": {
        "colab": {
          "base_uri": "https://localhost:8080/"
        },
        "id": "7p9plQlxpS-l",
        "outputId": "39940dc6-7aa3-4362-9425-afc66e73b0e3"
      },
      "execution_count": 7,
      "outputs": [
        {
          "output_type": "stream",
          "name": "stdout",
          "text": [
            "[99, 20, 30, 88, 50, 77]\n"
          ]
        }
      ]
    },
    {
      "cell_type": "code",
      "source": [
        "list1 = [ 10, 20, 30, 40, 50, 60]\n",
        "print(list1)\n",
        "\n",
        "print(\"After incrementing each element of list by 2\")\n",
        "for i in range( len(list1)):\n",
        "    list1[i] = list1[i] + 2\n",
        "\n",
        "print(list1)"
      ],
      "metadata": {
        "colab": {
          "base_uri": "https://localhost:8080/"
        },
        "id": "ubQylnFwp8mq",
        "outputId": "3bb1f4c2-6d25-46ff-f5ff-0d1cf9d57950"
      },
      "execution_count": 8,
      "outputs": [
        {
          "output_type": "stream",
          "name": "stdout",
          "text": [
            "[10, 20, 30, 40, 50, 60]\n",
            "After incrementing each element of list by 2\n",
            "[12, 22, 32, 42, 52, 62]\n"
          ]
        }
      ]
    },
    {
      "cell_type": "markdown",
      "source": [
        "**Delete elements:-**to remove items such as remove, pop, del and clear methods. Removing elements from a list can be done in various ways depending on whether we want to remove based on the value of the element or index.\n",
        "\n",
        "**Example:-**"
      ],
      "metadata": {
        "id": "tSwtn7-Dq7oY"
      }
    },
    {
      "cell_type": "code",
      "source": [
        "#remove\n",
        "a = [10, 20, 30, 40, 50]\n",
        "a.remove(30)\n",
        "print(a)"
      ],
      "metadata": {
        "colab": {
          "base_uri": "https://localhost:8080/"
        },
        "id": "1r3XxlOIqw2z",
        "outputId": "ff1412a6-78ef-457d-c936-306530e4979b"
      },
      "execution_count": 9,
      "outputs": [
        {
          "output_type": "stream",
          "name": "stdout",
          "text": [
            "[10, 20, 40, 50]\n"
          ]
        }
      ]
    },
    {
      "cell_type": "code",
      "source": [
        "#pop\n",
        "\n",
        "a = [10, 20, 30, 40, 50]\n",
        "val = a.pop(1)\n",
        "print(a)"
      ],
      "metadata": {
        "colab": {
          "base_uri": "https://localhost:8080/"
        },
        "id": "v5kfbx32t-es",
        "outputId": "9e73b364-d3a4-421e-ca51-cf2156b9b431"
      },
      "execution_count": 11,
      "outputs": [
        {
          "output_type": "stream",
          "name": "stdout",
          "text": [
            "[10, 30, 40, 50]\n"
          ]
        }
      ]
    },
    {
      "cell_type": "code",
      "source": [
        "#del\n",
        "\n",
        "a = [10, 20, 30, 40, 50]\n",
        "del a[1]\n",
        "print(a)"
      ],
      "metadata": {
        "colab": {
          "base_uri": "https://localhost:8080/"
        },
        "id": "j4EM6vYGuZMK",
        "outputId": "20bfa69e-a324-41c7-f27d-0176a0dbf6b1"
      },
      "execution_count": 12,
      "outputs": [
        {
          "output_type": "stream",
          "name": "stdout",
          "text": [
            "[10, 30, 40, 50]\n"
          ]
        }
      ]
    },
    {
      "cell_type": "code",
      "source": [
        "#clear\n",
        "\n",
        "a = [10, 20, 30, 40, 50]\n",
        "a.clear()\n",
        "print(a)"
      ],
      "metadata": {
        "colab": {
          "base_uri": "https://localhost:8080/"
        },
        "id": "-6CgGHwnu374",
        "outputId": "2158265d-560a-4943-efb2-54cd0294074f"
      },
      "execution_count": 13,
      "outputs": [
        {
          "output_type": "stream",
          "name": "stdout",
          "text": [
            "[]\n"
          ]
        }
      ]
    },
    {
      "cell_type": "markdown",
      "source": [
        "**Que. 4.Compare and contrast tuples and lists with examples.**\n",
        "\n",
        "**Ans.**\n",
        "Lists and Tuples in Python are two classes of Python Data Structures. The list structure is dynamic, and readily changed whereas the tuple structure is static and cannot be changed. This means that the tuple is generally faster than the list. Lists are denoted by square brackets and tuples are denoted with parenthesis.\n",
        "\n",
        "**Lists:-**\n",
        "\n",
        "\n",
        "\n",
        "*   Lists are mutable\n",
        "*   Lists consume more memory\n",
        "\n",
        "*   The list is better for performing operations, such as insertion and deletion.\n",
        "*   Lists have several built-in methods\n",
        "\n",
        "\n",
        "**Tuples:-**\n",
        "\n",
        "\n",
        "\n",
        "*   Tuples are immutable\n",
        "*  Tuple consumes less memory as compared to the list\n",
        "\n",
        "*  A Tuple data type is appropriate for accessing the elements\n",
        "*  Tuple consumes less memory as compared to the list\n"
      ],
      "metadata": {
        "id": "9tt3puzuvdPq"
      }
    },
    {
      "cell_type": "code",
      "source": [
        "#lists\n",
        "\n",
        "num_list = [1,2,3,4,5]\n",
        "num_list"
      ],
      "metadata": {
        "colab": {
          "base_uri": "https://localhost:8080/"
        },
        "id": "f1hZ1MFbvaAQ",
        "outputId": "5b2d9701-91b1-4f4b-a9a1-dce6f6167d69"
      },
      "execution_count": 14,
      "outputs": [
        {
          "output_type": "execute_result",
          "data": {
            "text/plain": [
              "[1, 2, 3, 4, 5]"
            ]
          },
          "metadata": {},
          "execution_count": 14
        }
      ]
    },
    {
      "cell_type": "code",
      "source": [
        "num_list[1] = 77"
      ],
      "metadata": {
        "id": "7ofmKtJ50dTm"
      },
      "execution_count": 15,
      "outputs": []
    },
    {
      "cell_type": "code",
      "source": [
        "num_list"
      ],
      "metadata": {
        "colab": {
          "base_uri": "https://localhost:8080/"
        },
        "id": "vE5nm5lp0kYt",
        "outputId": "ee11a8ed-8f79-4d4f-fd38-2535ee82e38e"
      },
      "execution_count": 16,
      "outputs": [
        {
          "output_type": "execute_result",
          "data": {
            "text/plain": [
              "[1, 77, 3, 4, 5]"
            ]
          },
          "metadata": {},
          "execution_count": 16
        }
      ]
    },
    {
      "cell_type": "code",
      "source": [
        "#tuples\n",
        "\n",
        "num_tuple = (1,2,3,4,5)\n",
        "num_tuple"
      ],
      "metadata": {
        "colab": {
          "base_uri": "https://localhost:8080/"
        },
        "id": "6VzeZaQV0myr",
        "outputId": "5eb1f350-ca86-4a78-d1a5-24e79d0fbad4"
      },
      "execution_count": 17,
      "outputs": [
        {
          "output_type": "execute_result",
          "data": {
            "text/plain": [
              "(1, 2, 3, 4, 5)"
            ]
          },
          "metadata": {},
          "execution_count": 17
        }
      ]
    },
    {
      "cell_type": "code",
      "source": [
        "num_tuple[2] = 55"
      ],
      "metadata": {
        "colab": {
          "base_uri": "https://localhost:8080/",
          "height": 141
        },
        "id": "bNsCaFKo0w5v",
        "outputId": "bd1f0a41-d542-4ef5-f275-04f3f12639cd"
      },
      "execution_count": 18,
      "outputs": [
        {
          "output_type": "error",
          "ename": "TypeError",
          "evalue": "'tuple' object does not support item assignment",
          "traceback": [
            "\u001b[0;31m---------------------------------------------------------------------------\u001b[0m",
            "\u001b[0;31mTypeError\u001b[0m                                 Traceback (most recent call last)",
            "\u001b[0;32m<ipython-input-18-6d823f007bf1>\u001b[0m in \u001b[0;36m<cell line: 1>\u001b[0;34m()\u001b[0m\n\u001b[0;32m----> 1\u001b[0;31m \u001b[0mnum_tuple\u001b[0m\u001b[0;34m[\u001b[0m\u001b[0;36m2\u001b[0m\u001b[0;34m]\u001b[0m \u001b[0;34m=\u001b[0m \u001b[0;36m55\u001b[0m\u001b[0;34m\u001b[0m\u001b[0;34m\u001b[0m\u001b[0m\n\u001b[0m",
            "\u001b[0;31mTypeError\u001b[0m: 'tuple' object does not support item assignment"
          ]
        }
      ]
    },
    {
      "cell_type": "markdown",
      "source": [
        "**Que. 5.Describe the key features of sets and provide examples of their use.**\n",
        "\n",
        "**Ans.**\n",
        "A well-defined collection of Objects or items or data is known as a set. The objects or data are known as the element. . The symbol used for sets is {…..}. Only the collection of data with specific characteristics is called a set.\n",
        "\n",
        "\n",
        "Set is one of 4 built-in data types in Python used to store collections of data, the other 3 are List, Tuple, and Dictionary, all with different qualities and usage. A set is a collection which is unordered, unchangeable*, and unindexed.\n",
        "###set operations\n",
        "###Union: combines elements from two sets excluding duplicates\n",
        "###Intersection: only common elements btw sets\n",
        "###difference: return the elements that is present in first set and not in second\n",
        "###symmentric difference: returns elements that are present in either of sets but not in both"
      ],
      "metadata": {
        "id": "4Qx3bp-61Ra6"
      }
    },
    {
      "cell_type": "code",
      "source": [
        "s = {1}\n",
        "type(s)"
      ],
      "metadata": {
        "colab": {
          "base_uri": "https://localhost:8080/"
        },
        "id": "u7RX1sNr1cmO",
        "outputId": "d3b0ddb0-8dea-4549-a2d8-d2a33989ca37"
      },
      "execution_count": 19,
      "outputs": [
        {
          "output_type": "execute_result",
          "data": {
            "text/plain": [
              "set"
            ]
          },
          "metadata": {},
          "execution_count": 19
        }
      ]
    },
    {
      "cell_type": "code",
      "source": [
        "s = {1,2,1,2,2,\"Sanket\",\"Sanket\",\"Sanket\",\"Sanket\",\"sanket\"}\n",
        "s"
      ],
      "metadata": {
        "colab": {
          "base_uri": "https://localhost:8080/"
        },
        "id": "2yGlsEAH0_5c",
        "outputId": "a733c4cc-fc5f-417f-994f-fc3ae9ec45b0"
      },
      "execution_count": 20,
      "outputs": [
        {
          "output_type": "execute_result",
          "data": {
            "text/plain": [
              "{1, 2, 'Sanket', 'sanket'}"
            ]
          },
          "metadata": {},
          "execution_count": 20
        }
      ]
    },
    {
      "cell_type": "code",
      "source": [
        "list1 = [1,2,3,\"Potato\",\"Potato\",\"Apple\",\"Apple\"]\n",
        "s = set(list1)"
      ],
      "metadata": {
        "id": "U1CxxybAA7IP"
      },
      "execution_count": 21,
      "outputs": []
    },
    {
      "cell_type": "code",
      "source": [
        "s"
      ],
      "metadata": {
        "colab": {
          "base_uri": "https://localhost:8080/"
        },
        "id": "uXZqKpziBGQw",
        "outputId": "4b6295c3-0271-4c88-c9e9-f658ab647381"
      },
      "execution_count": 22,
      "outputs": [
        {
          "output_type": "execute_result",
          "data": {
            "text/plain": [
              "{1, 2, 3, 'Apple', 'Potato'}"
            ]
          },
          "metadata": {},
          "execution_count": 22
        }
      ]
    },
    {
      "cell_type": "code",
      "source": [
        "s = {1,2,3,4,5,{4,5,6}} #unhashable type >> it is mutable-list, set\n",
        "#immutable data structure has a stable hash values like tuples"
      ],
      "metadata": {
        "colab": {
          "base_uri": "https://localhost:8080/",
          "height": 158
        },
        "id": "sQzlrzOwBHMh",
        "outputId": "49cfc565-fa25-48e5-edea-f6468ae03cf6"
      },
      "execution_count": 23,
      "outputs": [
        {
          "output_type": "error",
          "ename": "TypeError",
          "evalue": "unhashable type: 'set'",
          "traceback": [
            "\u001b[0;31m---------------------------------------------------------------------------\u001b[0m",
            "\u001b[0;31mTypeError\u001b[0m                                 Traceback (most recent call last)",
            "\u001b[0;32m<ipython-input-23-01df602f2840>\u001b[0m in \u001b[0;36m<cell line: 1>\u001b[0;34m()\u001b[0m\n\u001b[0;32m----> 1\u001b[0;31m \u001b[0ms\u001b[0m \u001b[0;34m=\u001b[0m \u001b[0;34m{\u001b[0m\u001b[0;36m1\u001b[0m\u001b[0;34m,\u001b[0m\u001b[0;36m2\u001b[0m\u001b[0;34m,\u001b[0m\u001b[0;36m3\u001b[0m\u001b[0;34m,\u001b[0m\u001b[0;36m4\u001b[0m\u001b[0;34m,\u001b[0m\u001b[0;36m5\u001b[0m\u001b[0;34m,\u001b[0m\u001b[0;34m{\u001b[0m\u001b[0;36m4\u001b[0m\u001b[0;34m,\u001b[0m\u001b[0;36m5\u001b[0m\u001b[0;34m,\u001b[0m\u001b[0;36m6\u001b[0m\u001b[0;34m}\u001b[0m\u001b[0;34m}\u001b[0m \u001b[0;31m#unhashable type >> it is mutable-list, set\u001b[0m\u001b[0;34m\u001b[0m\u001b[0;34m\u001b[0m\u001b[0m\n\u001b[0m\u001b[1;32m      2\u001b[0m \u001b[0;31m#immutable data structure has a stable hash values like tuples\u001b[0m\u001b[0;34m\u001b[0m\u001b[0;34m\u001b[0m\u001b[0m\n",
            "\u001b[0;31mTypeError\u001b[0m: unhashable type: 'set'"
          ]
        }
      ]
    },
    {
      "cell_type": "code",
      "source": [
        " {1,2,3,4,5,(4,5,6)} #it didn't throw error, because tuple is immutable >> stable hashtype"
      ],
      "metadata": {
        "colab": {
          "base_uri": "https://localhost:8080/"
        },
        "id": "vhsrWfW8Bt4x",
        "outputId": "8a110677-a0d5-4f2a-d91b-c9e5a537fda2"
      },
      "execution_count": 25,
      "outputs": [
        {
          "output_type": "execute_result",
          "data": {
            "text/plain": [
              "{(4, 5, 6), 1, 2, 3, 4, 5}"
            ]
          },
          "metadata": {},
          "execution_count": 25
        }
      ]
    },
    {
      "cell_type": "code",
      "source": [
        "s1 = {\"hiking\", \"reading\", \"coding\"}\n",
        "s2 = {\"coding\", \"photography\", \"travelling\"}"
      ],
      "metadata": {
        "id": "nFdnpXNuB-Ab"
      },
      "execution_count": 26,
      "outputs": []
    },
    {
      "cell_type": "code",
      "source": [
        "s1"
      ],
      "metadata": {
        "colab": {
          "base_uri": "https://localhost:8080/"
        },
        "id": "y4eaQ837CSdt",
        "outputId": "8936cfa7-95d3-4358-df63-65a5dfae17e6"
      },
      "execution_count": 27,
      "outputs": [
        {
          "output_type": "execute_result",
          "data": {
            "text/plain": [
              "{'coding', 'hiking', 'reading'}"
            ]
          },
          "metadata": {},
          "execution_count": 27
        }
      ]
    },
    {
      "cell_type": "code",
      "source": [
        "s2"
      ],
      "metadata": {
        "colab": {
          "base_uri": "https://localhost:8080/"
        },
        "id": "cDJblPMdCZHr",
        "outputId": "e4e9c365-ed85-4bdd-ec46-0bc3d5b22fad"
      },
      "execution_count": 28,
      "outputs": [
        {
          "output_type": "execute_result",
          "data": {
            "text/plain": [
              "{'coding', 'photography', 'travelling'}"
            ]
          },
          "metadata": {},
          "execution_count": 28
        }
      ]
    },
    {
      "cell_type": "code",
      "source": [
        "#union >> combine all the elements\n",
        "s1|s2"
      ],
      "metadata": {
        "colab": {
          "base_uri": "https://localhost:8080/"
        },
        "id": "eJ-mkfYGCaDx",
        "outputId": "d7abcb13-3775-4bc3-92ba-dfdd1b644833"
      },
      "execution_count": 29,
      "outputs": [
        {
          "output_type": "execute_result",
          "data": {
            "text/plain": [
              "{'coding', 'hiking', 'photography', 'reading', 'travelling'}"
            ]
          },
          "metadata": {},
          "execution_count": 29
        }
      ]
    },
    {
      "cell_type": "code",
      "source": [
        "#intersection >> common elements\n",
        "s1 & s2"
      ],
      "metadata": {
        "colab": {
          "base_uri": "https://localhost:8080/"
        },
        "id": "ywOFnRJfCjNA",
        "outputId": "85c62d44-bfc0-4893-e6c3-377ea076ece5"
      },
      "execution_count": 30,
      "outputs": [
        {
          "output_type": "execute_result",
          "data": {
            "text/plain": [
              "{'coding'}"
            ]
          },
          "metadata": {},
          "execution_count": 30
        }
      ]
    },
    {
      "cell_type": "code",
      "source": [
        "#difference\n",
        "s1 - s2"
      ],
      "metadata": {
        "colab": {
          "base_uri": "https://localhost:8080/"
        },
        "id": "qIKd6anVCmrt",
        "outputId": "d08b678e-7787-443d-8b50-e75342cef236"
      },
      "execution_count": 31,
      "outputs": [
        {
          "output_type": "execute_result",
          "data": {
            "text/plain": [
              "{'hiking', 'reading'}"
            ]
          },
          "metadata": {},
          "execution_count": 31
        }
      ]
    },
    {
      "cell_type": "code",
      "source": [
        "#symmetric difference\n",
        "s1^s2"
      ],
      "metadata": {
        "colab": {
          "base_uri": "https://localhost:8080/"
        },
        "id": "no1Ik97iCq08",
        "outputId": "e01f53b2-45bc-4aec-d901-c354e00cbafe"
      },
      "execution_count": 32,
      "outputs": [
        {
          "output_type": "execute_result",
          "data": {
            "text/plain": [
              "{'hiking', 'photography', 'reading', 'travelling'}"
            ]
          },
          "metadata": {},
          "execution_count": 32
        }
      ]
    },
    {
      "cell_type": "code",
      "source": [
        "#frozen sets >> immutable version of set, cannot be added or removed any new element\n",
        "fs = frozenset([1,2,3,4,5])"
      ],
      "metadata": {
        "id": "cVb3tYtiCwQB"
      },
      "execution_count": 33,
      "outputs": []
    },
    {
      "cell_type": "code",
      "source": [
        "fs"
      ],
      "metadata": {
        "colab": {
          "base_uri": "https://localhost:8080/"
        },
        "id": "CZTc8UthDfsl",
        "outputId": "4bf6aff5-a8ea-47ab-c33a-6e6d8f8fa5cf"
      },
      "execution_count": 34,
      "outputs": [
        {
          "output_type": "execute_result",
          "data": {
            "text/plain": [
              "frozenset({1, 2, 3, 4, 5})"
            ]
          },
          "metadata": {},
          "execution_count": 34
        }
      ]
    },
    {
      "cell_type": "code",
      "source": [
        "fs.add(7)"
      ],
      "metadata": {
        "colab": {
          "base_uri": "https://localhost:8080/",
          "height": 141
        },
        "id": "3AenTJdsDgql",
        "outputId": "909de1b8-2047-4354-c02f-3a57b1f5c754"
      },
      "execution_count": 35,
      "outputs": [
        {
          "output_type": "error",
          "ename": "AttributeError",
          "evalue": "'frozenset' object has no attribute 'add'",
          "traceback": [
            "\u001b[0;31m---------------------------------------------------------------------------\u001b[0m",
            "\u001b[0;31mAttributeError\u001b[0m                            Traceback (most recent call last)",
            "\u001b[0;32m<ipython-input-35-f01a67cf301e>\u001b[0m in \u001b[0;36m<cell line: 1>\u001b[0;34m()\u001b[0m\n\u001b[0;32m----> 1\u001b[0;31m \u001b[0mfs\u001b[0m\u001b[0;34m.\u001b[0m\u001b[0madd\u001b[0m\u001b[0;34m(\u001b[0m\u001b[0;36m7\u001b[0m\u001b[0;34m)\u001b[0m\u001b[0;34m\u001b[0m\u001b[0;34m\u001b[0m\u001b[0m\n\u001b[0m",
            "\u001b[0;31mAttributeError\u001b[0m: 'frozenset' object has no attribute 'add'"
          ]
        }
      ]
    },
    {
      "cell_type": "code",
      "source": [
        "fs.remove(2)"
      ],
      "metadata": {
        "colab": {
          "base_uri": "https://localhost:8080/",
          "height": 141
        },
        "id": "uo9ifDlpDsnm",
        "outputId": "c03159cf-99a8-46fa-946e-46d67791be0f"
      },
      "execution_count": 36,
      "outputs": [
        {
          "output_type": "error",
          "ename": "AttributeError",
          "evalue": "'frozenset' object has no attribute 'remove'",
          "traceback": [
            "\u001b[0;31m---------------------------------------------------------------------------\u001b[0m",
            "\u001b[0;31mAttributeError\u001b[0m                            Traceback (most recent call last)",
            "\u001b[0;32m<ipython-input-36-d00e906eedbf>\u001b[0m in \u001b[0;36m<cell line: 1>\u001b[0;34m()\u001b[0m\n\u001b[0;32m----> 1\u001b[0;31m \u001b[0mfs\u001b[0m\u001b[0;34m.\u001b[0m\u001b[0mremove\u001b[0m\u001b[0;34m(\u001b[0m\u001b[0;36m2\u001b[0m\u001b[0;34m)\u001b[0m\u001b[0;34m\u001b[0m\u001b[0;34m\u001b[0m\u001b[0m\n\u001b[0m",
            "\u001b[0;31mAttributeError\u001b[0m: 'frozenset' object has no attribute 'remove'"
          ]
        }
      ]
    },
    {
      "cell_type": "code",
      "source": [
        "fs.pop()"
      ],
      "metadata": {
        "colab": {
          "base_uri": "https://localhost:8080/",
          "height": 141
        },
        "id": "2YLDoNC1Dzku",
        "outputId": "97052703-f0ca-4e04-86e2-7db5f055a500"
      },
      "execution_count": 37,
      "outputs": [
        {
          "output_type": "error",
          "ename": "AttributeError",
          "evalue": "'frozenset' object has no attribute 'pop'",
          "traceback": [
            "\u001b[0;31m---------------------------------------------------------------------------\u001b[0m",
            "\u001b[0;31mAttributeError\u001b[0m                            Traceback (most recent call last)",
            "\u001b[0;32m<ipython-input-37-756ada476a74>\u001b[0m in \u001b[0;36m<cell line: 1>\u001b[0;34m()\u001b[0m\n\u001b[0;32m----> 1\u001b[0;31m \u001b[0mfs\u001b[0m\u001b[0;34m.\u001b[0m\u001b[0mpop\u001b[0m\u001b[0;34m(\u001b[0m\u001b[0;34m)\u001b[0m\u001b[0;34m\u001b[0m\u001b[0;34m\u001b[0m\u001b[0m\n\u001b[0m",
            "\u001b[0;31mAttributeError\u001b[0m: 'frozenset' object has no attribute 'pop'"
          ]
        }
      ]
    },
    {
      "cell_type": "markdown",
      "source": [
        "**Que. 6.Discuss the use cases of tuples and sets in python programming.**\n",
        "\n",
        "**Ans.**\n",
        "\n",
        "\n",
        "*  **Tuples:-** Tuple is a collection of Python objects much like a list. The sequence of values stored in a tuple can be of any type, and they are indexed by integers. Values of a tuple are syntactically separated by ‘commas’. Although it is not necessary, it is more common to define a tuple by closing the sequence of values in parentheses.\n",
        "\n",
        "*   Tuple is an immutable sequence in python.\n",
        "*  It cannot be changed or replaced since it is immutable.\n",
        "\n",
        "\n",
        "* It is defined under parenthesis().  \n",
        "*   Tuples can store any type of element.\n",
        "\n",
        "\n",
        "**Sets:-**Set is an unordered collection of data type that is iterable, mutable, and has no duplicate elements. The major advantage of using a set, as opposed to a list, is that it has a highly optimized method for checking whether a specific element is contained in the set.\n",
        "\n",
        "\n",
        "\n",
        "*   Sets are an unordered collection of elements or unintended collection of items In python.\n",
        "\n",
        "*   Here the order in which the elements are added into the set is not fixed, it can change frequently.\n",
        "*  It is defined under curly braces{}.\n",
        "\n",
        "\n",
        "*  Sets are mutable, however, only immutable objects can be stored in it.\n",
        "\n",
        "\n",
        "\n",
        "\n",
        "\n"
      ],
      "metadata": {
        "id": "sFBzPI0eD5Rz"
      }
    },
    {
      "cell_type": "markdown",
      "source": [
        "**Que. 7.Describe how to add,modify,and delete items in a dictionary with examples.**\n",
        "\n",
        "**Ans.**\n",
        " Dictionaries are mutable data structures that allow you to store key-value pairs. Dictionary can be created using the dict() constructor or curly braces' {}'. and to created a dictionary, also use of add, remove, or update elements using the methods dict. update(), dict.\n",
        "\n",
        ""
      ],
      "metadata": {
        "id": "y9T-a3lEH9k5"
      }
    },
    {
      "cell_type": "code",
      "source": [
        "#adding items\n",
        "\n",
        "thisdict = {\n",
        "  \"brand\": \"Samsung\",\n",
        "  \"model\": \"Galaxy S24\",\n",
        "  \"year\": 2023\n",
        "}\n",
        "thisdict[\"color\"] = \"Titanium Gray\"\n",
        "print(thisdict)\n"
      ],
      "metadata": {
        "colab": {
          "base_uri": "https://localhost:8080/"
        },
        "id": "vGVLFbPWD2va",
        "outputId": "0760c016-a5d4-4308-87a0-9e7b8592ee21"
      },
      "execution_count": 38,
      "outputs": [
        {
          "output_type": "stream",
          "name": "stdout",
          "text": [
            "{'brand': 'Samsung', 'model': 'Galaxy S24', 'year': 2023, 'color': 'Titanium Gray'}\n"
          ]
        }
      ]
    },
    {
      "cell_type": "code",
      "source": [
        "#modify items\n",
        "\n",
        "thisdict = {\n",
        "  \"brand\": \"Samsung\",\n",
        "  \"model\": \"Galaxy S24\",\n",
        "  \"year\": 2023\n",
        "}\n",
        "thisdict[\"year\"] = 2024\n",
        "print(thisdict)"
      ],
      "metadata": {
        "colab": {
          "base_uri": "https://localhost:8080/"
        },
        "id": "9uZnkpRsMMje",
        "outputId": "084d47ad-7cb9-4f20-f8f6-1b5588870de1"
      },
      "execution_count": 39,
      "outputs": [
        {
          "output_type": "stream",
          "name": "stdout",
          "text": [
            "{'brand': 'Samsung', 'model': 'Galaxy S24', 'year': 2024}\n"
          ]
        }
      ]
    },
    {
      "cell_type": "code",
      "source": [
        "#delete items\n",
        "\n",
        "thisdict = {\n",
        "  \"brand\": \"Samsung\",\n",
        "  \"model\": \"Galaxy S24\",\n",
        "  \"year\": 2023\n",
        "}\n",
        "thisdict.pop(\"model\")\n",
        "print(thisdict)"
      ],
      "metadata": {
        "colab": {
          "base_uri": "https://localhost:8080/"
        },
        "id": "qz-CXVIOMw5a",
        "outputId": "2a2b77da-9bf6-43fc-c498-fbf6a7bdd6be"
      },
      "execution_count": 40,
      "outputs": [
        {
          "output_type": "stream",
          "name": "stdout",
          "text": [
            "{'brand': 'Samsung', 'year': 2023}\n"
          ]
        }
      ]
    },
    {
      "cell_type": "markdown",
      "source": [
        "**Que. 8.Discuss the importance of dictionary keys being immutable and provide examples.**\n",
        "\n",
        "**Ans.** The hash table implementation of dictionaries uses a hash value calculated from the key value to find the key. If the key were a mutable object, its value could change, and thus its hash could also change.\n"
      ],
      "metadata": {
        "id": "eHnGlGUtNX1p"
      }
    },
    {
      "cell_type": "code",
      "source": [
        "mydict = {[1, 2]: '12'}\n",
        "print(mydict[[1, 2]])"
      ],
      "metadata": {
        "colab": {
          "base_uri": "https://localhost:8080/",
          "height": 158
        },
        "id": "LtCo6WxNNN-U",
        "outputId": "daeb4299-4b3e-46c0-fbbc-18ff72d91337"
      },
      "execution_count": 41,
      "outputs": [
        {
          "output_type": "error",
          "ename": "TypeError",
          "evalue": "unhashable type: 'list'",
          "traceback": [
            "\u001b[0;31m---------------------------------------------------------------------------\u001b[0m",
            "\u001b[0;31mTypeError\u001b[0m                                 Traceback (most recent call last)",
            "\u001b[0;32m<ipython-input-41-3148f64a3279>\u001b[0m in \u001b[0;36m<cell line: 1>\u001b[0;34m()\u001b[0m\n\u001b[0;32m----> 1\u001b[0;31m \u001b[0mmydict\u001b[0m \u001b[0;34m=\u001b[0m \u001b[0;34m{\u001b[0m\u001b[0;34m[\u001b[0m\u001b[0;36m1\u001b[0m\u001b[0;34m,\u001b[0m \u001b[0;36m2\u001b[0m\u001b[0;34m]\u001b[0m\u001b[0;34m:\u001b[0m \u001b[0;34m'12'\u001b[0m\u001b[0;34m}\u001b[0m\u001b[0;34m\u001b[0m\u001b[0;34m\u001b[0m\u001b[0m\n\u001b[0m\u001b[1;32m      2\u001b[0m \u001b[0mprint\u001b[0m\u001b[0;34m(\u001b[0m\u001b[0mmydict\u001b[0m\u001b[0;34m[\u001b[0m\u001b[0;34m[\u001b[0m\u001b[0;36m1\u001b[0m\u001b[0;34m,\u001b[0m \u001b[0;36m2\u001b[0m\u001b[0;34m]\u001b[0m\u001b[0;34m]\u001b[0m\u001b[0;34m)\u001b[0m\u001b[0;34m\u001b[0m\u001b[0;34m\u001b[0m\u001b[0m\n",
            "\u001b[0;31mTypeError\u001b[0m: unhashable type: 'list'"
          ]
        }
      ]
    },
    {
      "cell_type": "code",
      "source": [],
      "metadata": {
        "id": "xeQ06QTWSLsj"
      },
      "execution_count": null,
      "outputs": []
    }
  ]
}